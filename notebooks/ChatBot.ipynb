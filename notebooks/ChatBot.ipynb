{
 "cells": [
  {
   "cell_type": "code",
   "execution_count": 3,
   "metadata": {},
   "outputs": [],
   "source": [
    "import os\n",
    "from dotenv import load_dotenv\n",
    "from openai import OpenAI\n",
    "import gradio as gr"
   ]
  },
  {
   "cell_type": "code",
   "execution_count": 4,
   "metadata": {},
   "outputs": [],
   "source": [
    "load_dotenv(override=True)\n",
    "openai_api_key = os.getenv('OPENAI_API_KEY')"
   ]
  },
  {
   "cell_type": "code",
   "execution_count": 5,
   "metadata": {},
   "outputs": [],
   "source": [
    "openai = OpenAI()\n",
    "model = \"gpt-4o-mini\""
   ]
  },
  {
   "cell_type": "code",
   "execution_count": 6,
   "metadata": {},
   "outputs": [],
   "source": [
    "system_msg = \"You are a helpful assitant in a comic book store. You should try to gently encourage the \\\n",
    "    customer to try the books that are on sale. Indian comic books are on 60% off, and most other items \\\n",
    "    are 50% off. For example, if the customer says, 'I'm looking to buy panchatantra', you could reply with \\\n",
    "    the 'Great choice, we have 60% off on it'. Encourage customer to buy comic by getting their prefrences and \\\n",
    "    recommending them comics according to their taste/genre preferences\""
   ]
  },
  {
   "cell_type": "code",
   "execution_count": 7,
   "metadata": {},
   "outputs": [],
   "source": [
    "def chat(message, history):\n",
    "    messages = [{\"role\": \"system\", \"content\": system_msg}] + history + [{\"role\": \"user\", \"content\": message}]\n",
    "    stream = openai.chat.completions.create(messages=messages, model=model, stream=True)\n",
    "    response = \"\"\n",
    "    for chunk in stream:\n",
    "        response += chunk.choices[0].delta.content or ''\n",
    "        yield response"
   ]
  },
  {
   "cell_type": "code",
   "execution_count": 8,
   "metadata": {},
   "outputs": [
    {
     "name": "stdout",
     "output_type": "stream",
     "text": [
      "* Running on local URL:  http://127.0.0.1:7860\n",
      "\n",
      "Could not create share link. Please check your internet connection or our status page: https://status.gradio.app.\n"
     ]
    },
    {
     "name": "stderr",
     "output_type": "stream",
     "text": [
      "2025/03/07 14:33:34 [W] [service.go:132] login to server failed: i/o deadline reached\n"
     ]
    },
    {
     "data": {
      "text/html": [
       "<div><iframe src=\"http://127.0.0.1:7860/\" width=\"100%\" height=\"500\" allow=\"autoplay; camera; microphone; clipboard-read; clipboard-write;\" frameborder=\"0\" allowfullscreen></iframe></div>"
      ],
      "text/plain": [
       "<IPython.core.display.HTML object>"
      ]
     },
     "metadata": {},
     "output_type": "display_data"
    },
    {
     "data": {
      "text/plain": []
     },
     "execution_count": 8,
     "metadata": {},
     "output_type": "execute_result"
    }
   ],
   "source": [
    "gr.ChatInterface(fn=chat, type=\"messages\").launch(share=True)"
   ]
  },
  {
   "cell_type": "code",
   "execution_count": 122,
   "metadata": {},
   "outputs": [],
   "source": [
    "system_message = \"You are a helpful assistant for an Airline called FlightAI. \"\n",
    "system_message += \"Give short, courteous answers, no more than 1 sentence. \"\n",
    "system_message += \"Always be accurate. If you don't know the answer, say so.\""
   ]
  },
  {
   "cell_type": "code",
   "execution_count": 123,
   "metadata": {},
   "outputs": [],
   "source": [
    "ticket_prices = {\"mumbai\": \"$799\", \"pune\": \"$899\", \"tokyo\": \"$1400\", \"berlin\": \"$499\"}\n",
    "def get_ticket_price(dest_city):\n",
    "    print(f'Tool get_ticket_price called for {dest_city}')\n",
    "    return ticket_prices.get(dest_city.lower(), \"Unknown\")"
   ]
  },
  {
   "cell_type": "code",
   "execution_count": 124,
   "metadata": {},
   "outputs": [],
   "source": [
    "seat_capacity = {\"total_available\": 20, \"booked\":30, \"window\":10, \"aisle\":10}\n",
    "\n",
    "def check_seat_availability():\n",
    "    print(f\"Tool check_seat_availability called.\")\n",
    "    return seat_capacity.get(\"total_available\"), seat_capacity.get(\"booked\"), seat_capacity.get(\"window\"), seat_capacity.get(\"aisle\")\n",
    "\n",
    "def book_ticket(nop = 0, now = 0, noa = 0):\n",
    "    print(f\"Tool book_ticket called for {nop} passengers with {now} window and {noa} aisle tickets.\")\n",
    "    seat_capacity[\"total_available\"] -= nop\n",
    "    seat_capacity[\"booked\"] += nop\n",
    "    seat_capacity[\"window\"] -= now\n",
    "    seat_capacity[\"aisle\"] -= noa\n",
    "    return nop, now, noa"
   ]
  },
  {
   "cell_type": "code",
   "execution_count": 125,
   "metadata": {},
   "outputs": [],
   "source": [
    "check_seat_availability_function = {\n",
    "    \"name\": \"check_seat_availability\",\n",
    "    \"description\": \"Check the seat availability. Provide accurate information.\",\n",
    "    \"parameters\": {}\n",
    "}"
   ]
  },
  {
   "cell_type": "code",
   "execution_count": 126,
   "metadata": {},
   "outputs": [],
   "source": [
    "book_ticket_function = {\n",
    "    \"name\": \"book_ticket\",\n",
    "    \"description\": \"Book the tickets accordingly depending on customer preference of \\\n",
    "        window or aisle. If any of window or aisle seats are not available, i.e., if any of them is 0, let the \\\n",
    "        customer know that their preference of window/aisle is not available, and recommend them alternative available \\\n",
    "        seats. Make sure the total passengers passed and the number of window + aisle seats match. If they don't, prompt \\\n",
    "        it to the customer and get correct inputs.\",\n",
    "    \"parameters\":{\n",
    "        \"type\": \"object\",\n",
    "        \"properties\":{\n",
    "            \"nop\":{\n",
    "                \"type\": \"integer\",\n",
    "                \"description\": \"The number of passenger to book ticket for\"\n",
    "            },\n",
    "            \"now\":{\n",
    "                \"type\": \"integer\",\n",
    "                \"description\": \"The number of window seats to book\"\n",
    "            },\n",
    "            \"noa\":{\n",
    "                \"type\": \"integer\",\n",
    "                \"description\": \"The number of aisle seats to book\"\n",
    "            }\n",
    "        },\n",
    "        \"required\" : [\"nop\", \"now\", \"noa\"],\n",
    "        \"additional_properties\" : False\n",
    "    }\n",
    "}"
   ]
  },
  {
   "cell_type": "code",
   "execution_count": 127,
   "metadata": {},
   "outputs": [],
   "source": [
    "price_function = {\n",
    "    \"name\": \"get_ticket_price\",\n",
    "    \"description\": \"Get  the price of a return ticket to the destination city. Call this whenever you need \\\n",
    "        to know the ticket price, for eg when a customer asks 'How much is the ticket to this city?'\",\n",
    "    \"parameters\":{\n",
    "        \"type\": \"object\",\n",
    "        \"properties\":{\n",
    "            \"dest_city\":{\n",
    "                \"type\": \"string\",\n",
    "                \"description\": \"The city that customer wants to travel to\"\n",
    "            }\n",
    "        },\n",
    "        \"required\" : [\"dest_city\"],\n",
    "        \"additional_properties\" : False\n",
    "    }\n",
    "}\n",
    "\n",
    "tools = [{\"type\":\"function\", \"function\": price_function}, {\"type\":\"function\", \"function\": book_ticket_function}, {\"type\":\"function\", \"function\": check_seat_availability_function}]"
   ]
  },
  {
   "cell_type": "code",
   "execution_count": 128,
   "metadata": {},
   "outputs": [],
   "source": [
    "import json\n",
    "def handle_tool_call(message):\n",
    "    tool_calls = message.tool_calls\n",
    "    resp_list = []\n",
    "    for tool_call in tool_calls:\n",
    "        function_name = tool_call.function.name\n",
    "        print(function_name)\n",
    "        if function_name == \"check_seat_availability\":\n",
    "            total_available, booked, window, aisle = check_seat_availability()\n",
    "            response = {\n",
    "                \"role\": \"tool\",\n",
    "                \"content\": json.dumps({\"total_available\":total_available, \n",
    "                                    \"total_flight_booked\":booked,\n",
    "                                    \"total_window_available\":window,\n",
    "                                    \"total_aisle_available\":aisle}),\n",
    "                \"tool_call_id\" : tool_call.id\n",
    "            }\n",
    "            resp_list.append(response)      \n",
    "        elif function_name == \"get_ticket_price\":\n",
    "            arguments = json.loads(tool_call.function.arguments)\n",
    "            city =  arguments.get('dest_city')\n",
    "            price = get_ticket_price(city)\n",
    "            response = {\n",
    "                \"role\": \"tool\",\n",
    "                \"content\": json.dumps({\"dest_city\":city, \"price\":price}),\n",
    "                \"tool_call_id\" : tool_call.id\n",
    "            }\n",
    "            resp_list.append(response)\n",
    "        elif function_name == \"book_ticket\":\n",
    "            arguments = json.loads(tool_call.function.arguments)\n",
    "            nop = arguments.get('nop')\n",
    "            now = arguments.get('now')\n",
    "            noa = arguments.get('noa')\n",
    "            nop_booked, now_booked, noa_booked = book_ticket(nop, noa, now)\n",
    "            response = {\n",
    "                \"role\": \"tool\",\n",
    "                \"content\": json.dumps({\"nop_booked\":nop_booked, \n",
    "                                    \"now_booked\":now_booked,\n",
    "                                    \"noa_booked\":noa_booked}),\n",
    "                \"tool_call_id\" : tool_call.id\n",
    "            }\n",
    "            resp_list.append(response)\n",
    "    return resp_list"
   ]
  },
  {
   "cell_type": "code",
   "execution_count": 129,
   "metadata": {},
   "outputs": [],
   "source": [
    "def chat(message, history):\n",
    "    messages = [{\"role\": \"system\", \"content\": system_message}] + history + [{\"role\": \"user\", \"content\": message}]\n",
    "    response = openai.chat.completions.create(model=model, messages=messages, tools=tools)\n",
    "    print(response)\n",
    "    if response.choices[0].finish_reason == \"tool_calls\":\n",
    "        message = response.choices[0].message\n",
    "        resp = handle_tool_call(message)\n",
    "        messages.append(message)\n",
    "        messages.extend(resp)\n",
    "        response = openai.chat.completions.create(model=model, messages=messages)\n",
    "    return response.choices[0].message.content"
   ]
  },
  {
   "cell_type": "code",
   "execution_count": 130,
   "metadata": {},
   "outputs": [
    {
     "name": "stdout",
     "output_type": "stream",
     "text": [
      "* Running on local URL:  http://127.0.0.1:7879\n",
      "\n",
      "To create a public link, set `share=True` in `launch()`.\n"
     ]
    },
    {
     "data": {
      "text/html": [
       "<div><iframe src=\"http://127.0.0.1:7879/\" width=\"100%\" height=\"500\" allow=\"autoplay; camera; microphone; clipboard-read; clipboard-write;\" frameborder=\"0\" allowfullscreen></iframe></div>"
      ],
      "text/plain": [
       "<IPython.core.display.HTML object>"
      ]
     },
     "metadata": {},
     "output_type": "display_data"
    },
    {
     "data": {
      "text/plain": []
     },
     "execution_count": 130,
     "metadata": {},
     "output_type": "execute_result"
    }
   ],
   "source": [
    "gr.ChatInterface(fn=chat, type=\"messages\").launch()"
   ]
  },
  {
   "cell_type": "code",
   "execution_count": 131,
   "metadata": {},
   "outputs": [],
   "source": [
    "import base64\n",
    "from io import BytesIO\n",
    "from PIL import Image"
   ]
  },
  {
   "cell_type": "code",
   "execution_count": 132,
   "metadata": {},
   "outputs": [],
   "source": [
    "def artist(city):\n",
    "    image_response = openai.images.generate(\n",
    "        model=\"dall-e-3\",\n",
    "        prompt = f\"An image representing a vacation in {city}, showing tourist spots and everything unique about {city}, in a vibrant pop-art style\",\n",
    "        size= \"1024x1024\",\n",
    "        n=1,\n",
    "        response_format=\"b64_json\"\n",
    "    )\n",
    "    image_base64 = image_response.data[0].b64_json\n",
    "    image_data = base64.b64decode(image_base64)\n",
    "    return Image.open(BytesIO(image_data))"
   ]
  },
  {
   "cell_type": "code",
   "execution_count": 133,
   "metadata": {},
   "outputs": [],
   "source": [
    "# image = artist(\"Mumbai\")\n",
    "# display(image)"
   ]
  },
  {
   "cell_type": "code",
   "execution_count": 142,
   "metadata": {},
   "outputs": [],
   "source": [
    "from pydub import AudioSegment\n",
    "from pydub.playback import play\n",
    "import tempfile\n",
    "import time, subprocess\n",
    "from IPython.display import Audio, display\n",
    "\n",
    "def play_audio(audio_segment):\n",
    "    temp_dir = tempfile.gettempdir()\n",
    "    temp_path = os.path.join(temp_dir, \"temp_audio.wav\")\n",
    "    try:\n",
    "        audio_segment.export(temp_path, format=\"wav\")\n",
    "        time.sleep(0.5) # Student Dominic found that this was needed. You could also try commenting out to see if not needed on your PC\n",
    "        subprocess.call([\n",
    "            \"ffplay\",\n",
    "            \"-nodisp\",\n",
    "            \"-autoexit\",\n",
    "            \"-hide_banner\",\n",
    "            temp_path\n",
    "        ], stdout=subprocess.DEVNULL, stderr=subprocess.DEVNULL)\n",
    "    finally:\n",
    "        try:\n",
    "            os.remove(temp_path)\n",
    "        except Exception:\n",
    "            pass\n",
    "\n",
    "def talker(message):\n",
    "    response = openai.audio.speech.create(\n",
    "        model= \"tts-1-hd\",\n",
    "        voice= \"alloy\",\n",
    "        input= message\n",
    "    )\n",
    "    audio_stream = BytesIO(response.content)\n",
    "    # output_filename = \"output_audio.mp3\"\n",
    "    # with open(output_filename, \"wb\") as f:\n",
    "    #     f.write(audio_stream.read())\n",
    "    # display(Audio(output_filename, autoplay=True))\n",
    "    audio = AudioSegment.from_file(audio_stream, format= \"mp3\")\n",
    "    play_audio(audio)"
   ]
  },
  {
   "cell_type": "code",
   "execution_count": 143,
   "metadata": {},
   "outputs": [],
   "source": [
    "talker(\"Hey! Welcome to Mumbai!!!\")"
   ]
  },
  {
   "cell_type": "code",
   "execution_count": 144,
   "metadata": {},
   "outputs": [],
   "source": [
    "def chat(history):\n",
    "    messages = [{\"role\":\"system\", \"content\":system_message}] + history\n",
    "    response = openai.chat.completions.create(model=model, messages=messages, tools=tools)\n",
    "    image = None\n",
    "\n",
    "    if response.choices[0].finish_reason == \"tool_calls\":\n",
    "        message = response.choices[0].message\n",
    "        resp = handle_tool_call(message)\n",
    "        messages.append(message)\n",
    "        messages.extend(resp)\n",
    "        # image = artist(city)\n",
    "        response = openai.chat.completions.create(model=model, messages=messages)\n",
    "    \n",
    "    reply = response.choices[0].message.content\n",
    "    history += [{\"role\":\"assistant\", \"content\": reply}]\n",
    "\n",
    "    talker(reply)\n",
    "    return history, image"
   ]
  },
  {
   "cell_type": "code",
   "execution_count": 145,
   "metadata": {},
   "outputs": [
    {
     "name": "stdout",
     "output_type": "stream",
     "text": [
      "* Running on local URL:  http://127.0.0.1:7883\n",
      "\n",
      "To create a public link, set `share=True` in `launch()`.\n"
     ]
    },
    {
     "data": {
      "text/html": [
       "<div><iframe src=\"http://127.0.0.1:7883/\" width=\"100%\" height=\"500\" allow=\"autoplay; camera; microphone; clipboard-read; clipboard-write;\" frameborder=\"0\" allowfullscreen></iframe></div>"
      ],
      "text/plain": [
       "<IPython.core.display.HTML object>"
      ]
     },
     "metadata": {},
     "output_type": "display_data"
    },
    {
     "data": {
      "text/plain": []
     },
     "execution_count": 145,
     "metadata": {},
     "output_type": "execute_result"
    },
    {
     "name": "stdout",
     "output_type": "stream",
     "text": [
      "get_ticket_price\n",
      "Tool get_ticket_price called for Mumbai\n",
      "book_ticket\n",
      "Tool book_ticket called for 2 passengers with 1 window and 1 aisle tickets.\n",
      "check_seat_availability\n",
      "Tool check_seat_availability called.\n"
     ]
    }
   ],
   "source": [
    "with gr.Blocks() as ui:\n",
    "    with gr.Row():\n",
    "        chatbot = gr.Chatbot(height=500, type= \"messages\")\n",
    "        image_output = gr.Image(height=500)\n",
    "    with gr.Row():\n",
    "        entry = gr.Textbox(label=\"Chat with your AI Assitant\")\n",
    "    with gr.Row():\n",
    "        clear = gr.Button(\"Clear\")\n",
    "    \n",
    "    def do_entry(message, history):\n",
    "        history += [{\"role\":\"user\", \"content\": message}]\n",
    "        return \"\", history\n",
    "    \n",
    "    entry.submit(do_entry, inputs=[entry, chatbot], outputs=[entry,chatbot]).then(\n",
    "        chat, inputs=chatbot, outputs=[chatbot, image_output]\n",
    "    )\n",
    "    clear.click(lambda:None , inputs=None, outputs=chatbot, queue=False)\n",
    "ui.launch(inbrowser=True)"
   ]
  },
  {
   "cell_type": "code",
   "execution_count": null,
   "metadata": {},
   "outputs": [],
   "source": []
  }
 ],
 "metadata": {
  "kernelspec": {
   "display_name": "generic_env",
   "language": "python",
   "name": "python3"
  },
  "language_info": {
   "codemirror_mode": {
    "name": "ipython",
    "version": 3
   },
   "file_extension": ".py",
   "mimetype": "text/x-python",
   "name": "python",
   "nbconvert_exporter": "python",
   "pygments_lexer": "ipython3",
   "version": "3.12.3"
  }
 },
 "nbformat": 4,
 "nbformat_minor": 2
}
