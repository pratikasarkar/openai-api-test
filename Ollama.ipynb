{
 "cells": [
  {
   "cell_type": "code",
   "execution_count": 22,
   "id": "db031cf9-e886-4264-8b9b-ef8e053b93ed",
   "metadata": {},
   "outputs": [],
   "source": [
    "import os\n",
    "from dotenv import load_dotenv\n",
    "from openai import OpenAI\n",
    "import json\n",
    "import ollama\n",
    "from IPython.display import Markdown, display"
   ]
  },
  {
   "cell_type": "code",
   "execution_count": 23,
   "id": "b689d928",
   "metadata": {},
   "outputs": [],
   "source": [
    "MODEL = \"llama3.2\""
   ]
  },
  {
   "cell_type": "code",
   "execution_count": 24,
   "id": "1ec15b8b",
   "metadata": {},
   "outputs": [],
   "source": [
    "messages = [{\"role\":\"user\", \"content\":\"Describe some of the business applications of GenAI\"}]"
   ]
  },
  {
   "cell_type": "code",
   "execution_count": 25,
   "metadata": {},
   "outputs": [
    {
     "name": "stdout",
     "output_type": "stream",
     "text": [
      "model='llama3.2' created_at='2025-02-05T14:06:40.7301524Z' done=True done_reason='stop' total_duration=89214378500 load_duration=9809357700 prompt_eval_count=34 prompt_eval_duration=4778000000 eval_count=534 eval_duration=74553000000 message=Message(role='assistant', content=\"GenAI (Generative Artificial Intelligence) is a subfield of AI that focuses on generating new data, such as text, images, audio, and videos. The business applications of GenAI are vast and growing rapidly. Here are some examples:\\n\\n1. **Content Generation**: GenAI can generate high-quality content, such as blog posts, social media posts, product descriptions, and more. This can help businesses reduce the time and cost associated with creating content, while also improving the quality and consistency of their online presence.\\n2. **Data Augmentation**: GenAI can generate new data to augment existing datasets, which can improve the performance of machine learning models. This is particularly useful for industries like autonomous vehicles, medical imaging, and natural language processing.\\n3. **Personalization**: GenAI can generate personalized content, such as product recommendations, customer messages, and marketing campaigns. This helps businesses tailor their products and services to individual customers' needs and preferences.\\n4. **Customer Service Automation**: GenAI-powered chatbots can generate responses to customer inquiries, freeing up human customer support agents to focus on more complex issues.\\n5. **Marketing and Advertising**: GenAI can generate targeted advertising content, such as social media ads, email marketing campaigns, and product promotions. This helps businesses reach their target audiences more effectively and efficiently.\\n6. **Influencer Marketing**: GenAI can generate sponsored content for influencers, such as blog posts, videos, and social media posts. This helps brands partner with popular influencers to promote their products or services.\\n7. **Intelligent Editing**: GenAI-powered tools can edit and refine existing text, images, and audio files, freeing up human editors and creatives to focus on more strategic tasks.\\n8. **Creative Writing**: GenAI can generate original creative content, such as stories, poetry, and scripts. This can be useful for businesses that need to produce high-quality written content quickly and efficiently.\\n9. **Automated Reporting**: GenAI can generate reports, such as sales reports, website analytics reports, and customer feedback reports. This helps businesses stay on top of their performance metrics and make data-driven decisions.\\n10. **Virtual Assistants**: GenAI-powered virtual assistants can generate responses to user queries, perform tasks, and provide personalized recommendations.\\n\\nSome industries that are particularly well-suited for GenAI applications include:\\n\\n1. E-commerce\\n2. Marketing and advertising\\n3. Customer service and support\\n4. Content creation and publishing\\n5. Finance and banking\\n6. Healthcare and medical research\\n7. Education and training\\n\\nOverall, the business applications of GenAI are diverse and continue to expand as the technology advances.\", images=None, tool_calls=None)\n"
     ]
    }
   ],
   "source": [
    "response = ollama.chat(model = MODEL, messages = messages)"
   ]
  },
  {
   "cell_type": "code",
   "execution_count": 26,
   "id": "1a2e8866",
   "metadata": {},
   "outputs": [
    {
     "name": "stdout",
     "output_type": "stream",
     "text": [
      "GenAI (Generative Artificial Intelligence) is a subfield of AI that focuses on generating new data, such as text, images, audio, and videos. The business applications of GenAI are vast and growing rapidly. Here are some examples:\n",
      "\n",
      "1. **Content Generation**: GenAI can generate high-quality content, such as blog posts, social media posts, product descriptions, and more. This can help businesses reduce the time and cost associated with creating content, while also improving the quality and consistency of their online presence.\n",
      "2. **Data Augmentation**: GenAI can generate new data to augment existing datasets, which can improve the performance of machine learning models. This is particularly useful for industries like autonomous vehicles, medical imaging, and natural language processing.\n",
      "3. **Personalization**: GenAI can generate personalized content, such as product recommendations, customer messages, and marketing campaigns. This helps businesses tailor their products and services to individual customers' needs and preferences.\n",
      "4. **Customer Service Automation**: GenAI-powered chatbots can generate responses to customer inquiries, freeing up human customer support agents to focus on more complex issues.\n",
      "5. **Marketing and Advertising**: GenAI can generate targeted advertising content, such as social media ads, email marketing campaigns, and product promotions. This helps businesses reach their target audiences more effectively and efficiently.\n",
      "6. **Influencer Marketing**: GenAI can generate sponsored content for influencers, such as blog posts, videos, and social media posts. This helps brands partner with popular influencers to promote their products or services.\n",
      "7. **Intelligent Editing**: GenAI-powered tools can edit and refine existing text, images, and audio files, freeing up human editors and creatives to focus on more strategic tasks.\n",
      "8. **Creative Writing**: GenAI can generate original creative content, such as stories, poetry, and scripts. This can be useful for businesses that need to produce high-quality written content quickly and efficiently.\n",
      "9. **Automated Reporting**: GenAI can generate reports, such as sales reports, website analytics reports, and customer feedback reports. This helps businesses stay on top of their performance metrics and make data-driven decisions.\n",
      "10. **Virtual Assistants**: GenAI-powered virtual assistants can generate responses to user queries, perform tasks, and provide personalized recommendations.\n",
      "\n",
      "Some industries that are particularly well-suited for GenAI applications include:\n",
      "\n",
      "1. E-commerce\n",
      "2. Marketing and advertising\n",
      "3. Customer service and support\n",
      "4. Content creation and publishing\n",
      "5. Finance and banking\n",
      "6. Healthcare and medical research\n",
      "7. Education and training\n",
      "\n",
      "Overall, the business applications of GenAI are diverse and continue to expand as the technology advances.\n"
     ]
    }
   ],
   "source": [
    "print(response['message']['content'])"
   ]
  },
  {
   "cell_type": "code",
   "execution_count": null,
   "id": "d61a4d3e",
   "metadata": {},
   "outputs": [],
   "source": []
  }
 ],
 "metadata": {
  "kernelspec": {
   "display_name": "generic_env",
   "language": "python",
   "name": "python3"
  },
  "language_info": {
   "codemirror_mode": {
    "name": "ipython",
    "version": 3
   },
   "file_extension": ".py",
   "mimetype": "text/x-python",
   "name": "python",
   "nbconvert_exporter": "python",
   "pygments_lexer": "ipython3",
   "version": "3.12.3"
  }
 },
 "nbformat": 4,
 "nbformat_minor": 5
}
